{
 "cells": [
  {
   "cell_type": "markdown",
   "id": "037fc454-2b54-438b-a411-ffb50961905b",
   "metadata": {},
   "source": [
    "# Q1.\n",
    "### What are the key features of the wine quality data set? Discuss the importance of each feature in predicting the quality of wine."
   ]
  },
  {
   "cell_type": "markdown",
   "id": "416b1c95-13f9-4e89-a8f6-aaed28799ab7",
   "metadata": {},
   "source": [
    "- Fixed acidity\n",
    "- Volatile acidity\n",
    "- Citric acid\n",
    "- Residual sugar\n",
    "- Chlorides\n",
    "- Free sulfur dioxide\n",
    "- Total sulfur dioxide\n",
    "- Density\n",
    "- pH\n",
    "- Sulphates\n",
    "- Alcohol\n",
    "- Quality (target variable)\n",
    "\n",
    "\n",
    "Importance:\n",
    "\n",
    "- Fixed acidity: Indicates the non-volatile acidity; affects taste.\n",
    "- Alcohol: Higher alcohol content often correlates with better quality.\n",
    "- pH: Influences the perception of acidity.\n",
    "- Residual sugar: Sweetness perception.\n",
    "- Sulfur dioxide: Preservative; affects taste and aroma.\n",
    "- Citric acid: Adds freshness."
   ]
  },
  {
   "cell_type": "markdown",
   "id": "7cf50a7f-c017-4e2a-b233-691fefc7616b",
   "metadata": {},
   "source": [
    "# Q2.\n",
    "### How did you handle missing data in the wine quality data set during the feature engineering process? Discuss the advantages and disadvantages of different imputation techniques."
   ]
  },
  {
   "cell_type": "markdown",
   "id": "29182f4c-d9bc-4c89-b211-3c675deae44c",
   "metadata": {},
   "source": [
    "- Mean/Median Imputation\n",
    "- Forward/Backward Fill\n",
    "- Model-Based Imputation \n",
    "- Deletion\n",
    "\n",
    "\n",
    "Advantages and Disadvantages:\n",
    "\n",
    "- Mean/Median: Easy, but oversimplifies.\n",
    "- Model-Based: Preserves relationships, but assumptions must be met.\n",
    "- Deletion: Simple, but may lead to biased results."
   ]
  },
  {
   "cell_type": "markdown",
   "id": "66f7fa9f-fae1-495e-aba4-3e0ef7c1d2ea",
   "metadata": {},
   "source": [
    "# Q3.\n",
    "### What are the key factors that affect students' performance in exams? How would you go about analyzing these factors using statistical techniques?"
   ]
  },
  {
   "cell_type": "markdown",
   "id": "0a143648-9bdc-4916-a20b-f12d1e008380",
   "metadata": {},
   "source": [
    "- Study time\n",
    "- Parental involvement\n",
    "- Socioeconomic status\n",
    "- Health\n",
    "- Previous academic performance\n",
    "\n",
    "\n",
    "Statistical Techniques:\n",
    "\n",
    "- Regression Analysis: Identify relationships.\n",
    "- ANOVA or t-tests: Compare groups.\n",
    "- Correlation Analysis: Examine relationships between variables."
   ]
  },
  {
   "cell_type": "markdown",
   "id": "55b7fd32-60e6-4412-ac88-da44d741bfbb",
   "metadata": {},
   "source": [
    "# Q4.\n",
    "### Describe the process of feature engineering in the context of the student performance data set. How did you select and transform the variables for your model?"
   ]
  },
  {
   "cell_type": "markdown",
   "id": "4ecdd068-4766-4cc3-bfeb-5ebf89076406",
   "metadata": {},
   "source": [
    "- Identify Relevant Variables : Focus on factors likely to impact performance.\n",
    "- Create New Features : Combine or transform existing variables.\n",
    "- Handle Categorical Variables : Encode or create dummy variables.\n",
    "- Normalize/Scale Features : Ensure variables are on a similar scale."
   ]
  },
  {
   "cell_type": "markdown",
   "id": "aa3ed4d6-a4af-4431-8572-2e0c18fa0797",
   "metadata": {},
   "source": [
    "# Q5.\n",
    "### Load the wine quality data set and perform exploratory data analysis (EDA) to identify the distribution of each feature. Which feature(s) exhibit non-normality, and what transformations could be applied to these features to improve normality?"
   ]
  },
  {
   "cell_type": "markdown",
   "id": "583a7c78-3ad0-40b0-baee-83667ade378b",
   "metadata": {},
   "source": [
    "- Use tools like histograms, box plots.\n",
    "- Check for normality.\n",
    "- Skewness and Kurtosis measures.\n",
    "- Transformation options: log-transform for positively skewed data, Box-Cox for variable transformations."
   ]
  },
  {
   "cell_type": "markdown",
   "id": "c8862f47-4250-4473-a778-c829f997770d",
   "metadata": {},
   "source": [
    "# Q6.\n",
    "### Using the wine quality data set, perform principal component analysis (PCA) to reduce the number of features. What is the minimum number of principal components required to explain 90% of the variance in the data?"
   ]
  },
  {
   "cell_type": "markdown",
   "id": "5efc5845-baa6-479e-8962-504ae67a9f0b",
   "metadata": {},
   "source": [
    "- Standardize the data.\n",
    "- Use PCA to reduce dimensionality.\n",
    "- Identify the number of principal components needed to explain a certain percentage of variance (e.g., 90%).\n",
    "- Remember, the specific steps may vary based on the software/tools you're using, and the context of your analysis."
   ]
  }
 ],
 "metadata": {
  "kernelspec": {
   "display_name": "Python 3 (ipykernel)",
   "language": "python",
   "name": "python3"
  },
  "language_info": {
   "codemirror_mode": {
    "name": "ipython",
    "version": 3
   },
   "file_extension": ".py",
   "mimetype": "text/x-python",
   "name": "python",
   "nbconvert_exporter": "python",
   "pygments_lexer": "ipython3",
   "version": "3.10.8"
  }
 },
 "nbformat": 4,
 "nbformat_minor": 5
}
